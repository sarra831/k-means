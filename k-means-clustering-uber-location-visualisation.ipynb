{
 "cells": [
  {
   "cell_type": "code",
   "execution_count": 1,
   "id": "a55882a8",
   "metadata": {
    "_cell_guid": "b1076dfc-b9ad-4769-8c92-a6c4dae69d19",
    "_uuid": "8f2839f25d086af736a60e9eeb907d3b93b6e0e5",
    "execution": {
     "iopub.execute_input": "2023-10-14T21:03:48.483853Z",
     "iopub.status.busy": "2023-10-14T21:03:48.482916Z",
     "iopub.status.idle": "2023-10-14T21:03:48.923079Z",
     "shell.execute_reply": "2023-10-14T21:03:48.921923Z"
    },
    "papermill": {
     "duration": 0.453189,
     "end_time": "2023-10-14T21:03:48.925664",
     "exception": false,
     "start_time": "2023-10-14T21:03:48.472475",
     "status": "completed"
    },
    "tags": []
   },
   "outputs": [
    {
     "name": "stdout",
     "output_type": "stream",
     "text": [
      "/kaggle/input/uber-clustering/uber_clean.csv\n"
     ]
    }
   ],
   "source": [
    "# This Python 3 environment comes with many helpful analytics libraries installed\n",
    "# It is defined by the kaggle/python Docker image: https://github.com/kaggle/docker-python\n",
    "# For example, here's several helpful packages to load\n",
    "\n",
    "import numpy as np # linear algebra\n",
    "import pandas as pd # data processing, CSV file I/O (e.g. pd.read_csv)\n",
    "\n",
    "# Input data files are available in the read-only \"../input/\" directory\n",
    "# For example, running this (by clicking run or pressing Shift+Enter) will list all files under the input directory\n",
    "\n",
    "import os\n",
    "for dirname, _, filenames in os.walk('/kaggle/input'):\n",
    "    for filename in filenames:\n",
    "        print(os.path.join(dirname, filename))\n",
    "# You can write up to 20GB to the current directory (/kaggle/working/) that gets preserved as output when you create a version using \"Save & Run All\" \n",
    "# You can a write temporary files to /kaggle/temp/, but they won't be saved outside of the current session"
   ]
  },
  {
   "cell_type": "code",
   "execution_count": 2,
   "id": "9e23d742",
   "metadata": {
    "execution": {
     "iopub.execute_input": "2023-10-14T21:03:48.941411Z",
     "iopub.status.busy": "2023-10-14T21:03:48.939745Z",
     "iopub.status.idle": "2023-10-14T21:03:50.111662Z",
     "shell.execute_reply": "2023-10-14T21:03:50.110490Z"
    },
    "papermill": {
     "duration": 1.182022,
     "end_time": "2023-10-14T21:03:50.114051",
     "exception": false,
     "start_time": "2023-10-14T21:03:48.932029",
     "status": "completed"
    },
    "tags": []
   },
   "outputs": [
    {
     "data": {
      "text/html": [
       "<div>\n",
       "<style scoped>\n",
       "    .dataframe tbody tr th:only-of-type {\n",
       "        vertical-align: middle;\n",
       "    }\n",
       "\n",
       "    .dataframe tbody tr th {\n",
       "        vertical-align: top;\n",
       "    }\n",
       "\n",
       "    .dataframe thead th {\n",
       "        text-align: right;\n",
       "    }\n",
       "</style>\n",
       "<table border=\"1\" class=\"dataframe\">\n",
       "  <thead>\n",
       "    <tr style=\"text-align: right;\">\n",
       "      <th></th>\n",
       "      <th>Date/Time</th>\n",
       "      <th>Lat</th>\n",
       "      <th>Lon</th>\n",
       "      <th>Base</th>\n",
       "      <th>Date</th>\n",
       "    </tr>\n",
       "  </thead>\n",
       "  <tbody>\n",
       "    <tr>\n",
       "      <th>0</th>\n",
       "      <td>2014-07-01 0:03</td>\n",
       "      <td>40.7586</td>\n",
       "      <td>-73.9706</td>\n",
       "      <td>B02512</td>\n",
       "      <td>Tuesday</td>\n",
       "    </tr>\n",
       "    <tr>\n",
       "      <th>1</th>\n",
       "      <td>2014-07-01 0:05</td>\n",
       "      <td>40.7605</td>\n",
       "      <td>-73.9994</td>\n",
       "      <td>B02512</td>\n",
       "      <td>Tuesday</td>\n",
       "    </tr>\n",
       "    <tr>\n",
       "      <th>2</th>\n",
       "      <td>2014-07-01 0:06</td>\n",
       "      <td>40.7320</td>\n",
       "      <td>-73.9999</td>\n",
       "      <td>B02512</td>\n",
       "      <td>Tuesday</td>\n",
       "    </tr>\n",
       "    <tr>\n",
       "      <th>3</th>\n",
       "      <td>2014-07-01 0:09</td>\n",
       "      <td>40.7635</td>\n",
       "      <td>-73.9793</td>\n",
       "      <td>B02512</td>\n",
       "      <td>Tuesday</td>\n",
       "    </tr>\n",
       "    <tr>\n",
       "      <th>4</th>\n",
       "      <td>2014-07-01 0:20</td>\n",
       "      <td>40.7204</td>\n",
       "      <td>-74.0047</td>\n",
       "      <td>B02512</td>\n",
       "      <td>Tuesday</td>\n",
       "    </tr>\n",
       "  </tbody>\n",
       "</table>\n",
       "</div>"
      ],
      "text/plain": [
       "         Date/Time      Lat      Lon    Base     Date\n",
       "0  2014-07-01 0:03  40.7586 -73.9706  B02512  Tuesday\n",
       "1  2014-07-01 0:05  40.7605 -73.9994  B02512  Tuesday\n",
       "2  2014-07-01 0:06  40.7320 -73.9999  B02512  Tuesday\n",
       "3  2014-07-01 0:09  40.7635 -73.9793  B02512  Tuesday\n",
       "4  2014-07-01 0:20  40.7204 -74.0047  B02512  Tuesday"
      ]
     },
     "execution_count": 2,
     "metadata": {},
     "output_type": "execute_result"
    }
   ],
   "source": [
    "df = pd.read_csv(\"/kaggle/input/uber-clustering/uber_clean.csv\")\n",
    "df.head()"
   ]
  },
  {
   "cell_type": "code",
   "execution_count": 3,
   "id": "c50aa88e",
   "metadata": {
    "execution": {
     "iopub.execute_input": "2023-10-14T21:03:50.122352Z",
     "iopub.status.busy": "2023-10-14T21:03:50.121966Z",
     "iopub.status.idle": "2023-10-14T21:03:52.750944Z",
     "shell.execute_reply": "2023-10-14T21:03:52.749613Z"
    },
    "papermill": {
     "duration": 2.63602,
     "end_time": "2023-10-14T21:03:52.753555",
     "exception": false,
     "start_time": "2023-10-14T21:03:50.117535",
     "status": "completed"
    },
    "tags": []
   },
   "outputs": [],
   "source": [
    "import pandas as pd\n",
    "\n",
    "from sklearn.cluster import KMeans\n",
    "import folium\n",
    "\n",
    "import matplotlib.pyplot as plt\n",
    "import seaborn as sns\n",
    "%matplotlib inline"
   ]
  },
  {
   "cell_type": "code",
   "execution_count": 4,
   "id": "fdc9a4e5",
   "metadata": {
    "execution": {
     "iopub.execute_input": "2023-10-14T21:03:52.764883Z",
     "iopub.status.busy": "2023-10-14T21:03:52.764256Z",
     "iopub.status.idle": "2023-10-14T21:03:52.794587Z",
     "shell.execute_reply": "2023-10-14T21:03:52.793286Z"
    },
    "papermill": {
     "duration": 0.039786,
     "end_time": "2023-10-14T21:03:52.797278",
     "exception": false,
     "start_time": "2023-10-14T21:03:52.757492",
     "status": "completed"
    },
    "tags": []
   },
   "outputs": [
    {
     "data": {
      "text/html": [
       "<div>\n",
       "<style scoped>\n",
       "    .dataframe tbody tr th:only-of-type {\n",
       "        vertical-align: middle;\n",
       "    }\n",
       "\n",
       "    .dataframe tbody tr th {\n",
       "        vertical-align: top;\n",
       "    }\n",
       "\n",
       "    .dataframe thead th {\n",
       "        text-align: right;\n",
       "    }\n",
       "</style>\n",
       "<table border=\"1\" class=\"dataframe\">\n",
       "  <thead>\n",
       "    <tr style=\"text-align: right;\">\n",
       "      <th></th>\n",
       "      <th>Lat</th>\n",
       "      <th>Lon</th>\n",
       "    </tr>\n",
       "  </thead>\n",
       "  <tbody>\n",
       "    <tr>\n",
       "      <th>0</th>\n",
       "      <td>40.7586</td>\n",
       "      <td>-73.9706</td>\n",
       "    </tr>\n",
       "    <tr>\n",
       "      <th>1</th>\n",
       "      <td>40.7605</td>\n",
       "      <td>-73.9994</td>\n",
       "    </tr>\n",
       "    <tr>\n",
       "      <th>2</th>\n",
       "      <td>40.7320</td>\n",
       "      <td>-73.9999</td>\n",
       "    </tr>\n",
       "    <tr>\n",
       "      <th>3</th>\n",
       "      <td>40.7635</td>\n",
       "      <td>-73.9793</td>\n",
       "    </tr>\n",
       "    <tr>\n",
       "      <th>4</th>\n",
       "      <td>40.7204</td>\n",
       "      <td>-74.0047</td>\n",
       "    </tr>\n",
       "  </tbody>\n",
       "</table>\n",
       "</div>"
      ],
      "text/plain": [
       "       Lat      Lon\n",
       "0  40.7586 -73.9706\n",
       "1  40.7605 -73.9994\n",
       "2  40.7320 -73.9999\n",
       "3  40.7635 -73.9793\n",
       "4  40.7204 -74.0047"
      ]
     },
     "execution_count": 4,
     "metadata": {},
     "output_type": "execute_result"
    }
   ],
   "source": [
    "x = df[[\"Lat\", \"Lon\"]]\n",
    "x.head()"
   ]
  },
  {
   "cell_type": "code",
   "execution_count": 5,
   "id": "54d98865",
   "metadata": {
    "execution": {
     "iopub.execute_input": "2023-10-14T21:03:52.806149Z",
     "iopub.status.busy": "2023-10-14T21:03:52.805738Z",
     "iopub.status.idle": "2023-10-14T21:03:56.460382Z",
     "shell.execute_reply": "2023-10-14T21:03:56.459407Z"
    },
    "papermill": {
     "duration": 3.662043,
     "end_time": "2023-10-14T21:03:56.462953",
     "exception": false,
     "start_time": "2023-10-14T21:03:52.800910",
     "status": "completed"
    },
    "tags": []
   },
   "outputs": [],
   "source": [
    "model = KMeans(n_clusters=3, random_state=0, n_init=10)\n",
    "\n",
    "y_kmeans = model.fit_predict(x)"
   ]
  },
  {
   "cell_type": "code",
   "execution_count": 6,
   "id": "6c7c020b",
   "metadata": {
    "execution": {
     "iopub.execute_input": "2023-10-14T21:03:56.471510Z",
     "iopub.status.busy": "2023-10-14T21:03:56.471134Z",
     "iopub.status.idle": "2023-10-14T21:03:59.925804Z",
     "shell.execute_reply": "2023-10-14T21:03:59.923988Z"
    },
    "papermill": {
     "duration": 3.461866,
     "end_time": "2023-10-14T21:03:59.928372",
     "exception": false,
     "start_time": "2023-10-14T21:03:56.466506",
     "status": "completed"
    },
    "tags": []
   },
   "outputs": [],
   "source": [
    "cluster_assignments = model.fit_predict(x)\n",
    "\n",
    "cluster_centers = model.cluster_centers_\n"
   ]
  },
  {
   "cell_type": "code",
   "execution_count": 7,
   "id": "e2e89be7",
   "metadata": {
    "execution": {
     "iopub.execute_input": "2023-10-14T21:03:59.937024Z",
     "iopub.status.busy": "2023-10-14T21:03:59.936662Z",
     "iopub.status.idle": "2023-10-14T21:04:00.014052Z",
     "shell.execute_reply": "2023-10-14T21:04:00.012306Z"
    },
    "papermill": {
     "duration": 0.086313,
     "end_time": "2023-10-14T21:04:00.018355",
     "exception": false,
     "start_time": "2023-10-14T21:03:59.932042",
     "status": "completed"
    },
    "tags": []
   },
   "outputs": [],
   "source": [
    "distances = model.transform(x)\n"
   ]
  },
  {
   "cell_type": "code",
   "execution_count": 8,
   "id": "de42fa99",
   "metadata": {
    "execution": {
     "iopub.execute_input": "2023-10-14T21:04:00.040739Z",
     "iopub.status.busy": "2023-10-14T21:04:00.039983Z",
     "iopub.status.idle": "2023-10-14T21:04:00.063677Z",
     "shell.execute_reply": "2023-10-14T21:04:00.061537Z"
    },
    "papermill": {
     "duration": 0.039517,
     "end_time": "2023-10-14T21:04:00.068003",
     "exception": false,
     "start_time": "2023-10-14T21:04:00.028486",
     "status": "completed"
    },
    "tags": []
   },
   "outputs": [],
   "source": [
    "df[\"Cluster\"] = cluster_assignments\n",
    "df[\"Distance_to_C1\"] = distances[:, 0]  # Distance to the first centroid\n",
    "df[\"Distance_to_C2\"] = distances[:, 1]  # Distance to the second centroid\n",
    "df[\"Distance_to_C3\"] = distances[:, 2]  # Distance to the third centroid"
   ]
  },
  {
   "cell_type": "code",
   "execution_count": 9,
   "id": "b3e7200f",
   "metadata": {
    "execution": {
     "iopub.execute_input": "2023-10-14T21:04:00.088595Z",
     "iopub.status.busy": "2023-10-14T21:04:00.088212Z",
     "iopub.status.idle": "2023-10-14T21:04:00.106942Z",
     "shell.execute_reply": "2023-10-14T21:04:00.105668Z"
    },
    "papermill": {
     "duration": 0.030566,
     "end_time": "2023-10-14T21:04:00.109157",
     "exception": false,
     "start_time": "2023-10-14T21:04:00.078591",
     "status": "completed"
    },
    "tags": []
   },
   "outputs": [
    {
     "data": {
      "text/html": [
       "<div>\n",
       "<style scoped>\n",
       "    .dataframe tbody tr th:only-of-type {\n",
       "        vertical-align: middle;\n",
       "    }\n",
       "\n",
       "    .dataframe tbody tr th {\n",
       "        vertical-align: top;\n",
       "    }\n",
       "\n",
       "    .dataframe thead th {\n",
       "        text-align: right;\n",
       "    }\n",
       "</style>\n",
       "<table border=\"1\" class=\"dataframe\">\n",
       "  <thead>\n",
       "    <tr style=\"text-align: right;\">\n",
       "      <th></th>\n",
       "      <th>Date/Time</th>\n",
       "      <th>Lat</th>\n",
       "      <th>Lon</th>\n",
       "      <th>Base</th>\n",
       "      <th>Date</th>\n",
       "      <th>Cluster</th>\n",
       "      <th>Distance_to_C1</th>\n",
       "      <th>Distance_to_C2</th>\n",
       "      <th>Distance_to_C3</th>\n",
       "      <th>y</th>\n",
       "    </tr>\n",
       "  </thead>\n",
       "  <tbody>\n",
       "    <tr>\n",
       "      <th>0</th>\n",
       "      <td>2014-07-01 0:03</td>\n",
       "      <td>40.7586</td>\n",
       "      <td>-73.9706</td>\n",
       "      <td>B02512</td>\n",
       "      <td>Tuesday</td>\n",
       "      <td>1</td>\n",
       "      <td>0.044692</td>\n",
       "      <td>0.012974</td>\n",
       "      <td>0.214995</td>\n",
       "      <td>1</td>\n",
       "    </tr>\n",
       "    <tr>\n",
       "      <th>1</th>\n",
       "      <td>2014-07-01 0:05</td>\n",
       "      <td>40.7605</td>\n",
       "      <td>-73.9994</td>\n",
       "      <td>B02512</td>\n",
       "      <td>Tuesday</td>\n",
       "      <td>1</td>\n",
       "      <td>0.040222</td>\n",
       "      <td>0.037394</td>\n",
       "      <td>0.242815</td>\n",
       "      <td>1</td>\n",
       "    </tr>\n",
       "    <tr>\n",
       "      <th>2</th>\n",
       "      <td>2014-07-01 0:06</td>\n",
       "      <td>40.7320</td>\n",
       "      <td>-73.9999</td>\n",
       "      <td>B02512</td>\n",
       "      <td>Tuesday</td>\n",
       "      <td>0</td>\n",
       "      <td>0.012745</td>\n",
       "      <td>0.052334</td>\n",
       "      <td>0.235922</td>\n",
       "      <td>0</td>\n",
       "    </tr>\n",
       "    <tr>\n",
       "      <th>3</th>\n",
       "      <td>2014-07-01 0:09</td>\n",
       "      <td>40.7635</td>\n",
       "      <td>-73.9793</td>\n",
       "      <td>B02512</td>\n",
       "      <td>Tuesday</td>\n",
       "      <td>1</td>\n",
       "      <td>0.045380</td>\n",
       "      <td>0.017230</td>\n",
       "      <td>0.224858</td>\n",
       "      <td>1</td>\n",
       "    </tr>\n",
       "    <tr>\n",
       "      <th>4</th>\n",
       "      <td>2014-07-01 0:20</td>\n",
       "      <td>40.7204</td>\n",
       "      <td>-74.0047</td>\n",
       "      <td>B02512</td>\n",
       "      <td>Tuesday</td>\n",
       "      <td>0</td>\n",
       "      <td>0.010544</td>\n",
       "      <td>0.064124</td>\n",
       "      <td>0.238596</td>\n",
       "      <td>0</td>\n",
       "    </tr>\n",
       "  </tbody>\n",
       "</table>\n",
       "</div>"
      ],
      "text/plain": [
       "         Date/Time      Lat      Lon    Base     Date  Cluster  \\\n",
       "0  2014-07-01 0:03  40.7586 -73.9706  B02512  Tuesday        1   \n",
       "1  2014-07-01 0:05  40.7605 -73.9994  B02512  Tuesday        1   \n",
       "2  2014-07-01 0:06  40.7320 -73.9999  B02512  Tuesday        0   \n",
       "3  2014-07-01 0:09  40.7635 -73.9793  B02512  Tuesday        1   \n",
       "4  2014-07-01 0:20  40.7204 -74.0047  B02512  Tuesday        0   \n",
       "\n",
       "   Distance_to_C1  Distance_to_C2  Distance_to_C3  y  \n",
       "0        0.044692        0.012974        0.214995  1  \n",
       "1        0.040222        0.037394        0.242815  1  \n",
       "2        0.012745        0.052334        0.235922  0  \n",
       "3        0.045380        0.017230        0.224858  1  \n",
       "4        0.010544        0.064124        0.238596  0  "
      ]
     },
     "execution_count": 9,
     "metadata": {},
     "output_type": "execute_result"
    }
   ],
   "source": [
    "df['y'] = y_kmeans\n",
    "df.head()"
   ]
  },
  {
   "cell_type": "code",
   "execution_count": 10,
   "id": "da1427a7",
   "metadata": {
    "execution": {
     "iopub.execute_input": "2023-10-14T21:04:00.118643Z",
     "iopub.status.busy": "2023-10-14T21:04:00.117765Z",
     "iopub.status.idle": "2023-10-14T21:04:30.909421Z",
     "shell.execute_reply": "2023-10-14T21:04:30.907882Z"
    },
    "papermill": {
     "duration": 30.804266,
     "end_time": "2023-10-14T21:04:30.917153",
     "exception": false,
     "start_time": "2023-10-14T21:04:00.112887",
     "status": "completed"
    },
    "tags": []
   },
   "outputs": [
    {
     "data": {
      "text/plain": [
       "<matplotlib.collections.PathCollection at 0x7fc34cc7f250>"
      ]
     },
     "execution_count": 10,
     "metadata": {},
     "output_type": "execute_result"
    },
    {
     "data": {
      "image/png": "[encoded data removed]",
      "text/plain": [
       "<Figure size 640x480 with 1 Axes>"
      ]
     },
     "metadata": {},
     "output_type": "display_data"
    }
   ],
   "source": [
    "plt.scatter(df['Lon'], df['Lat'], c=df['y'])"
   ]
  },
  {
   "cell_type": "code",
   "execution_count": 11,
   "id": "1e1aeac8",
   "metadata": {
    "execution": {
     "iopub.execute_input": "2023-10-14T21:04:30.928279Z",
     "iopub.status.busy": "2023-10-14T21:04:30.927862Z",
     "iopub.status.idle": "2023-10-14T21:05:06.743993Z",
     "shell.execute_reply": "2023-10-14T21:05:06.742943Z"
    },
    "papermill": {
     "duration": 35.829914,
     "end_time": "2023-10-14T21:05:06.751753",
     "exception": false,
     "start_time": "2023-10-14T21:04:30.921839",
     "status": "completed"
    },
    "tags": []
   },
   "outputs": [
    {
     "data": {
      "text/plain": [
       "Text(0, 0.5, 'Latitude')"
      ]
     },
     "execution_count": 11,
     "metadata": {},
     "output_type": "execute_result"
    },
    {
     "data": {
      "image/png": "[encoded data removed]",
      "text/plain": [
       "<Figure size 640x480 with 1 Axes>"
      ]
     },
     "metadata": {},
     "output_type": "display_data"
    }
   ],
   "source": [
    "plt.scatter(df['Lon'], df['Lat'], c=df['y'])\n",
    "plt.scatter(cluster_centers[:, 1], cluster_centers[:, 0], s=100, c='red', marker='x', label='Centroids')\n",
    "plt.legend()\n",
    "plt.title('K-Means Clustering')\n",
    "plt.title('K-Means Clustering')\n",
    "plt.xlabel('Longitude')\n",
    "plt.ylabel('Latitude')"
   ]
  }
 ],
 "metadata": {
  "kernelspec": {
   "display_name": "Python 3",
   "language": "python",
   "name": "python3"
  },
  "language_info": {
   "codemirror_mode": {
    "name": "ipython",
    "version": 3
   },
   "file_extension": ".py",
   "mimetype": "text/x-python",
   "name": "python",
   "nbconvert_exporter": "python",
   "pygments_lexer": "ipython3",
   "version": "3.10.12"
  },
  "papermill": {
   "default_parameters": {},
   "duration": 82.469401,
   "end_time": "2023-10-14T21:05:07.477810",
   "environment_variables": {},
   "exception": null,
   "input_path": "__notebook__.ipynb",
   "output_path": "__notebook__.ipynb",
   "parameters": {},
   "start_time": "2023-10-14T21:03:45.008409",
   "version": "2.4.0"
  }
 },
 "nbformat": 4,
 "nbformat_minor": 5
}
